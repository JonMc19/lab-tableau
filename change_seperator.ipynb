{
 "cells": [
  {
   "cell_type": "code",
   "execution_count": 1,
   "metadata": {},
   "outputs": [
    {
     "name": "stdout",
     "output_type": "stream",
     "text": [
      "  Customer;State;Customer Lifetime Value;Response;Coverage;Education;Effective To Date;EmploymentStatus;Gender;Income;Location Code;Marital Status;Monthly Premium Auto;Months Since Last Claim;Months Since Policy Inception;Number of Open Complaints;Number of Policies;Policy Type;Policy;Renew Offer Type;Sales Channel;Total Claim Amount;Vehicle Class;Vehicle Size\n",
      "0  BU79786;Washington;2763.519279;No;Basic;Bachel...                                                                                                                                                                                                                                                                                                                      \n",
      "1  QZ44356;Arizona;6979.535903;No;Extended;Bachel...                                                                                                                                                                                                                                                                                                                      \n",
      "2  AI49188;Nevada;12887.43165;No;Premium;Bachelor...                                                                                                                                                                                                                                                                                                                      \n",
      "3  WW63253;California;7645.861827;No;Basic;Bachel...                                                                                                                                                                                                                                                                                                                      \n",
      "4  HB64268;Washington;2813.692575;No;Basic;Bachel...                                                                                                                                                                                                                                                                                                                      \n"
     ]
    }
   ],
   "source": [
    "import pandas as pd\n",
    "\n",
    "# Replace 'your_file.csv' with the path to your CSV file\n",
    "df = pd.read_csv('/Users/jon/Desktop/Ironhack/Unit 5 - Reporting/lab-tableau/we_fn_use_c_marketing_customer_value_analysis.csv')\n",
    "\n",
    "# Display the first few rows\n",
    "print(df.head())\n"
   ]
  },
  {
   "cell_type": "code",
   "execution_count": 3,
   "metadata": {},
   "outputs": [],
   "source": [
    "df.to_csv('we_fn_use_c_marketing_customer_value_analysis_clean.csv', sep=',', index=False)\n"
   ]
  }
 ],
 "metadata": {
  "kernelspec": {
   "display_name": "Python 3",
   "language": "python",
   "name": "python3"
  },
  "language_info": {
   "codemirror_mode": {
    "name": "ipython",
    "version": 3
   },
   "file_extension": ".py",
   "mimetype": "text/x-python",
   "name": "python",
   "nbconvert_exporter": "python",
   "pygments_lexer": "ipython3",
   "version": "3.12.9"
  }
 },
 "nbformat": 4,
 "nbformat_minor": 2
}
